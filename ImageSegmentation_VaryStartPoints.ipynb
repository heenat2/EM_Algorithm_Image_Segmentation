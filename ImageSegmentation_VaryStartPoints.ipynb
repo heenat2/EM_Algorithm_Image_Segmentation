{
 "cells": [
  {
   "cell_type": "markdown",
   "metadata": {},
   "source": [
    "This code generates images that are segmented using 20 clusters of pixels and using different start points for k-means."
   ]
  },
  {
   "cell_type": "code",
   "execution_count": 5,
   "metadata": {},
   "outputs": [
    {
     "name": "stdout",
     "output_type": "stream",
     "text": [
      "(330, 600, 3)\n"
     ]
    },
    {
     "data": {
      "text/plain": [
       "(3, 198000)"
      ]
     },
     "execution_count": 5,
     "metadata": {},
     "output_type": "execute_result"
    }
   ],
   "source": [
    "# Read small sunset image into 2d array of pixel values\n",
    "\n",
    "from scipy import misc\n",
    "from scipy.misc import toimage\n",
    "import numpy as np \n",
    "from scipy.spatial import distance\n",
    "from scipy.misc import logsumexp\n",
    "\n",
    "# read sunset image file to 330*600*3 array\n",
    "arr = misc.imread('smallsunset.jpg')\n",
    "print(arr.shape)\n",
    "# transform to 3*198000 array\n",
    "arr = arr.transpose(2,0,1).reshape(3,-1)\n",
    "arr.shape"
   ]
  },
  {
   "cell_type": "code",
   "execution_count": 6,
   "metadata": {
    "collapsed": true
   },
   "outputs": [],
   "source": [
    "k = 20\n",
    "pixels = 198000\n",
    "data = arr.transpose()"
   ]
  },
  {
   "cell_type": "code",
   "execution_count": 7,
   "metadata": {},
   "outputs": [
    {
     "name": "stdout",
     "output_type": "stream",
     "text": [
      "start= 100\n",
      "0.9999999999999999\n",
      "start= 200\n",
      "0.9999999999999999\n",
      "start= 300\n",
      "1.0\n",
      "start= 400\n",
      "1.0\n",
      "start= 500\n",
      "1.0\n"
     ]
    }
   ],
   "source": [
    "# Generated a segmented image using 20 clusters varying kmeans argument random_state from 100 to 500 in steps of 100.\n",
    "\n",
    "from sklearn.cluster import KMeans\n",
    "for start in [100,200,300,400,500]:\n",
    "    print('start=',start)\n",
    "    # train kmeans\n",
    "    \n",
    "    kmeans = KMeans(n_clusters=k,random_state=start)\n",
    "    kmeans.fit(data)\n",
    "    \n",
    "    # Initialize pi and means (mu_j)\n",
    "    \n",
    "    pi = []\n",
    "    clusterids = kmeans.predict(data)\n",
    "    mu_j = kmeans.cluster_centers_.reshape(k,3)\n",
    "    for i in range(0,k):\n",
    "        pi.append(np.count_nonzero(clusterids==i)/pixels)\n",
    "    print(sum(pi))\n",
    "    logpi = np.log(pi).reshape(1,k)\n",
    "    first = 1\n",
    "    wij_diff = 0\n",
    "    prev_wij = np.zeros((pixels,k))\n",
    "    \n",
    "    # Run EM algo until convergence of wij\n",
    "    \n",
    "    while(first == 1 or wij_diff > 1e-7):\n",
    "        first = 0\n",
    "        dist_matrix = distance.cdist(data,mu_j,'sqeuclidean')\n",
    "        log_wij_num = logpi - 0.5*dist_matrix\n",
    "        log_wij_den = np.apply_along_axis(logsumexp,1,log_wij_num).reshape(pixels,1)\n",
    "        wij = np.exp(log_wij_num - log_wij_den)\n",
    "        wij_diff = np.amax(np.absolute(wij - prev_wij))\n",
    "        prev_wij = wij\n",
    "        mu_j_num = np.dot(data.transpose(),wij)\n",
    "        mu_j_den = np.apply_along_axis(sum,0,wij).reshape(1,k)\n",
    "        new_mu = mu_j_num / mu_j_den\n",
    "        mu_j = new_mu.transpose()\n",
    "        new_pi = np.log(np.apply_along_axis(sum,0,wij)/pixels)\n",
    "        logpi = new_pi\n",
    "        \n",
    "    # Replace pixel values with their cluster centers and save image \n",
    "    \n",
    "    segmented_img = np.zeros((pixels,3))\n",
    "    new_clusterids = np.apply_along_axis(np.argmax,1,wij)\n",
    "    for i in range(0,pixels):\n",
    "        segmented_img[i] = mu_j.astype(int)[new_clusterids[i]]\n",
    "    # reshape array to 3 dimensions and display\n",
    "    newimg = segmented_img.transpose().reshape(3,330,600)\n",
    "    toimage(newimg).save('randomstart'+str(start)+'smallsunset20.jpg')    "
   ]
  },
  {
   "cell_type": "code",
   "execution_count": null,
   "metadata": {
    "collapsed": true
   },
   "outputs": [],
   "source": []
  }
 ],
 "metadata": {
  "kernelspec": {
   "display_name": "Python 3",
   "language": "python",
   "name": "python3"
  },
  "language_info": {
   "codemirror_mode": {
    "name": "ipython",
    "version": 3
   },
   "file_extension": ".py",
   "mimetype": "text/x-python",
   "name": "python",
   "nbconvert_exporter": "python",
   "pygments_lexer": "ipython3",
   "version": "3.6.3"
  }
 },
 "nbformat": 4,
 "nbformat_minor": 2
}
