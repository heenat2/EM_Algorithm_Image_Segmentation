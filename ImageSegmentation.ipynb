{
 "cells": [
  {
   "cell_type": "markdown",
   "metadata": {},
   "source": [
    "This code generates images that are segmented using pixel clustering. 10, 20 and 50 clusters are used for segmentation."
   ]
  },
  {
   "cell_type": "code",
   "execution_count": 300,
   "metadata": {},
   "outputs": [
    {
     "name": "stdout",
     "output_type": "stream",
     "text": [
      "(330, 600, 3)\n"
     ]
    },
    {
     "data": {
      "text/plain": [
       "(3, 198000)"
      ]
     },
     "execution_count": 300,
     "metadata": {},
     "output_type": "execute_result"
    }
   ],
   "source": [
    "from scipy import misc\n",
    "from scipy.misc import toimage\n",
    "import numpy as np \n",
    "from scipy.spatial import distance\n",
    "from scipy.misc import logsumexp\n",
    "\n",
    "# read image file into an array of pixels\n",
    "# The image name below needs to be changed as per requirement\n",
    "\n",
    "arr = misc.imread('smallsunset.jpg') \n",
    "print(arr.shape)\n",
    "# transform to 3*n array\n",
    "arr = arr.transpose(2,0,1).reshape(3,-1)\n",
    "arr.shape"
   ]
  },
  {
   "cell_type": "code",
   "execution_count": 301,
   "metadata": {
    "collapsed": true
   },
   "outputs": [],
   "source": [
    "# Initialize variables\n",
    "\n",
    "first = 1\n",
    "k = 20  # no. of segments\n",
    "\n",
    "#pixels = 307200   # for robert image\n",
    "#pixels = 239400   # for strelitzia image\n",
    "pixels = 198000    # for sunset image\n",
    "\n",
    "prev_wij = np.zeros((pixels,k))"
   ]
  },
  {
   "cell_type": "code",
   "execution_count": 302,
   "metadata": {},
   "outputs": [
    {
     "data": {
      "text/plain": [
       "KMeans(algorithm='auto', copy_x=True, init='k-means++', max_iter=300,\n",
       "    n_clusters=20, n_init=10, n_jobs=1, precompute_distances='auto',\n",
       "    random_state=None, tol=0.0001, verbose=0)"
      ]
     },
     "execution_count": 302,
     "metadata": {},
     "output_type": "execute_result"
    }
   ],
   "source": [
    "# Kmeans to find initial cluster centers\n",
    "\n",
    "from sklearn.cluster import KMeans\n",
    "kmeans = KMeans(n_clusters=k)\n",
    "data = arr.transpose()\n",
    "kmeans.fit(data)"
   ]
  },
  {
   "cell_type": "code",
   "execution_count": 303,
   "metadata": {},
   "outputs": [
    {
     "name": "stdout",
     "output_type": "stream",
     "text": [
      "1.0\n",
      "(20, 3)\n",
      "[  58.91398608   92.25310074  208.36714732]\n"
     ]
    }
   ],
   "source": [
    "# Initialize pi and means (mu_j). Compute log(pi)\n",
    "\n",
    "pi = []\n",
    "clusterids = kmeans.predict(data)\n",
    "mu_j = kmeans.cluster_centers_.reshape(k,3)\n",
    "for i in range(0,k):\n",
    "    pi.append(np.count_nonzero(clusterids==i)/pixels)\n",
    "print(sum(pi))\n",
    "logpi = np.log(pi).reshape(1,k)\n",
    "print(mu_j.shape)\n",
    "print(mu_j[5])"
   ]
  },
  {
   "cell_type": "code",
   "execution_count": 304,
   "metadata": {},
   "outputs": [
    {
     "name": "stdout",
     "output_type": "stream",
     "text": [
      "1.0\n",
      "0.983860867789\n",
      "0.975788840792\n",
      "0.949045522113\n",
      "0.800019819779\n",
      "0.660193004323\n",
      "0.724949306298\n",
      "0.666671801341\n",
      "0.620146413176\n",
      "0.598568360669\n",
      "0.649136662275\n",
      "0.857138814011\n",
      "0.813839074119\n",
      "0.79988425665\n",
      "0.738832250909\n",
      "0.689407062737\n",
      "0.69251950421\n",
      "0.794238714407\n",
      "0.798989340873\n",
      "0.791675593092\n",
      "0.636327923325\n",
      "0.449080845559\n",
      "0.267540789157\n",
      "0.219202677661\n",
      "0.17576684878\n",
      "0.115518255737\n",
      "0.0908285097203\n",
      "0.0653874630262\n",
      "0.0511138907084\n",
      "0.0391264568543\n",
      "0.0291299650933\n",
      "0.0213897301136\n",
      "0.0156278865722\n",
      "0.0114187898709\n",
      "0.00836573357945\n",
      "0.00774613585082\n",
      "0.00732471756256\n",
      "0.00696968030502\n",
      "0.00667078670696\n",
      "0.00642041130983\n",
      "0.00621281902505\n",
      "0.0060436706933\n",
      "0.00590968836485\n",
      "0.00580843085263\n",
      "0.00573814529478\n",
      "0.00569767161856\n",
      "0.00568638463554\n",
      "0.00570416435857\n",
      "0.00575138827644\n",
      "0.00586506092566\n",
      "0.00614468717601\n",
      "0.00647589762078\n",
      "0.0068668501999\n",
      "0.00732768273335\n",
      "0.0078710239302\n",
      "0.00851265480372\n",
      "0.00927236395166\n",
      "0.0101750486544\n",
      "0.0112521179993\n",
      "0.0125432449678\n",
      "0.0140984712456\n",
      "0.0159805461598\n",
      "0.018267087339\n",
      "0.0210515010029\n",
      "0.0244402519725\n",
      "0.0285414711067\n",
      "0.033435399675\n",
      "0.039111065411\n",
      "0.045350494056\n",
      "0.0515585935937\n",
      "0.0566091044531\n",
      "0.0589228741168\n",
      "0.0570690689175\n",
      "0.0522674953514\n",
      "0.0583364024905\n",
      "0.0663740807823\n",
      "0.0723560951593\n",
      "0.0752639416261\n",
      "0.0838064999676\n",
      "0.0986671407289\n",
      "0.109754077564\n",
      "0.135032522921\n",
      "0.157871239626\n",
      "0.196454902733\n",
      "0.209420287883\n",
      "0.130578920703\n",
      "0.0523015551861\n",
      "0.0277515711708\n",
      "0.0145553567922\n",
      "0.00726620972647\n",
      "0.00361836845398\n",
      "0.00182431934581\n",
      "0.000933166883341\n",
      "0.000483000473372\n",
      "0.00025195983638\n",
      "0.000154594384132\n",
      "0.000114609931744\n",
      "8.50727682759e-05\n",
      "6.3220261619e-05\n",
      "4.70287324221e-05\n",
      "3.50149598086e-05\n",
      "2.60899077671e-05\n",
      "1.94522737376e-05\n",
      "1.45111857343e-05\n",
      "1.08300826651e-05\n",
      "8.08581358086e-06\n",
      "6.03880551847e-06\n",
      "4.51117998923e-06\n",
      "3.37071108741e-06\n",
      "2.51899632864e-06\n",
      "1.88276379842e-06\n",
      "1.40739201621e-06\n",
      "1.05214089546e-06\n",
      "7.86625514282e-07\n",
      "5.8815321502e-07\n",
      "4.39776158656e-07\n",
      "3.28844329434e-07\n",
      "2.45908759466e-07\n",
      "1.8389179024e-07\n",
      "1.37515060117e-07\n",
      "1.02841738903e-07\n",
      "7.69080531482e-08\n",
      "done\n"
     ]
    }
   ],
   "source": [
    "# Run EM algorithm until convergence of matrix wij\n",
    "\n",
    "while(first == 1 or wij_diff > 1e-7):\n",
    "    first = 0\n",
    "    dist_matrix = distance.cdist(data,mu_j,'sqeuclidean')\n",
    "    log_wij_num = logpi - 0.5*dist_matrix\n",
    "    #print(log_wij_num.shape)\n",
    "    log_wij_den = np.apply_along_axis(logsumexp,1,log_wij_num).reshape(pixels,1)\n",
    "    wij = np.exp(log_wij_num - log_wij_den)\n",
    "    wij_diff = np.amax(np.absolute(wij - prev_wij))\n",
    "    print(wij_diff)\n",
    "    prev_wij = wij\n",
    "    mu_j_num = np.dot(data.transpose(),wij)\n",
    "    #print(mu_j_num)\n",
    "    mu_j_den = np.apply_along_axis(sum,0,wij).reshape(1,k)\n",
    "    #print(mu_j_den)\n",
    "    new_mu = mu_j_num / mu_j_den\n",
    "    mu_j = new_mu.transpose()\n",
    "    #print(mu_j)\n",
    "    new_pi = np.log(np.apply_along_axis(sum,0,wij)/pixels)\n",
    "    logpi = new_pi\n",
    "print('done')"
   ]
  },
  {
   "cell_type": "code",
   "execution_count": 290,
   "metadata": {
    "collapsed": true
   },
   "outputs": [],
   "source": [
    "# identify cluster id for each pixel and replace that pixel with the center of the cluster it belongs to\n",
    "\n",
    "segmented_img = np.zeros((pixels,3))\n",
    "new_clusterids = np.apply_along_axis(np.argmax,1,wij)\n",
    "for i in range(0,pixels):\n",
    "    segmented_img[i] = mu_j.astype(int)[new_clusterids[i]]"
   ]
  },
  {
   "cell_type": "code",
   "execution_count": 291,
   "metadata": {},
   "outputs": [
    {
     "name": "stdout",
     "output_type": "stream",
     "text": [
      "(198000, 3)\n",
      "[ 0  1  2  3  4  5  6  7  8  9 10 11 12 13 14 15 16 17 18 19]\n"
     ]
    }
   ],
   "source": [
    "#print((mu_j).astype(int))\n",
    "print(segmented_img.shape)\n",
    "print(np.unique(new_clusterids))"
   ]
  },
  {
   "cell_type": "code",
   "execution_count": 292,
   "metadata": {
    "collapsed": true
   },
   "outputs": [],
   "source": [
    "# reshape array to 3 dimensions and display\n",
    "#newimg = segmented_img.transpose().reshape(3,399,600)\n",
    "newimg = segmented_img.transpose().reshape(3,330,600)\n",
    "newimg.shape\n",
    "toimage(newimg).save('smallsunset20.jpg')"
   ]
  },
  {
   "cell_type": "code",
   "execution_count": null,
   "metadata": {
    "collapsed": true
   },
   "outputs": [],
   "source": []
  }
 ],
 "metadata": {
  "kernelspec": {
   "display_name": "Python 3",
   "language": "python",
   "name": "python3"
  },
  "language_info": {
   "codemirror_mode": {
    "name": "ipython",
    "version": 3
   },
   "file_extension": ".py",
   "mimetype": "text/x-python",
   "name": "python",
   "nbconvert_exporter": "python",
   "pygments_lexer": "ipython3",
   "version": "3.6.3"
  }
 },
 "nbformat": 4,
 "nbformat_minor": 2
}
